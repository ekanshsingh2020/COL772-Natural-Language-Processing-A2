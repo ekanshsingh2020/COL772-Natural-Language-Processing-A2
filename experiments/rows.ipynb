{
 "cells": [
  {
   "cell_type": "code",
   "execution_count": 1,
   "metadata": {},
   "outputs": [],
   "source": [
    "import nltk \n",
    "import pandas as pd\n",
    "import json\n",
    "import torch\n",
    "import torch.nn as nn\n",
    "import torch.optim as optim\n",
    "import torch.nn.functional as F\n",
    "from torch.utils.data import Dataset, DataLoader\n",
    "from gensim.models import FastText\n",
    "import gensim.downloader as api\n",
    "from gensim.models import KeyedVectors\n",
    "from gensim.test.utils import datapath\n",
    "from gensim.models.fasttext import load_facebook_vectors\n",
    "import gensim\n",
    "import math\n",
    "import random\n",
    "import numpy as np\n",
    "from unidecode import unidecode"
   ]
  },
  {
   "cell_type": "code",
   "execution_count": 2,
   "metadata": {},
   "outputs": [
    {
     "name": "stdout",
     "output_type": "stream",
     "text": [
      "Number of questions: 25000\n",
      "Number of tables: 25000\n",
      "Number of label columns: 25000\n",
      "Number of actual columns: 25000\n",
      "Number of label rows: 25000\n",
      "Number of questions: 5000\n",
      "Number of tables: 5000\n",
      "Number of label columns: 5000\n",
      "Number of actual columns: 5000\n",
      "Number of qids is  5000\n",
      "Number of label rows: 5000\n"
     ]
    }
   ],
   "source": [
    "questions_train = []\n",
    "tables_train = []\n",
    "actual_col_train = []\n",
    "label_cols_train = []\n",
    "label_rows_train = []\n",
    "# Read JSON data from file line by line\n",
    "with open('data/A2_train.jsonl', 'r', encoding='utf-8') as file:\n",
    "    for line in file:\n",
    "        # Parse JSON data from each line\n",
    "        parsed_data = json.loads(line)\n",
    "        questions_train.append(parsed_data['question'])\n",
    "        tables_train.append(parsed_data['table'])\n",
    "        label_cols_train.append(parsed_data['label_col'][0])\n",
    "        actual_col_train.append(list(parsed_data['table']['cols']))\n",
    "        label_rows_train.append(list(parsed_data['label_row']))\n",
    "\n",
    "# questions_train = clean_questions(questions_train)\n",
    "\n",
    "print('Number of questions:', len(questions_train))\n",
    "print('Number of tables:', len(tables_train))\n",
    "print('Number of label columns:', len(label_cols_train))\n",
    "print('Number of actual columns:', len(actual_col_train))\n",
    "print('Number of label rows:', len(label_rows_train))\n",
    "\n",
    "questions_test = []\n",
    "tables_test = []\n",
    "actual_col_test = []\n",
    "label_cols_test = []\n",
    "label_rows_test = []\n",
    "qid_test = []\n",
    "# Read JSON data from file line by line\n",
    "with open('data/A2_val.jsonl', 'r', encoding='utf-8') as file:\n",
    "    for line in file:\n",
    "        # Parse JSON data from each line\n",
    "        parsed_data = json.loads(line)\n",
    "        questions_test.append(parsed_data['question'])\n",
    "        tables_test.append(parsed_data['table'])\n",
    "        label_cols_test.append(parsed_data['label_col'][0])\n",
    "        actual_col_test.append(list(parsed_data['table']['cols']))\n",
    "        qid_test.append(parsed_data['qid'])\n",
    "        label_rows_test.append(list(parsed_data['label_row']))\n",
    "\n",
    "# questions_test = clean_questions(questions_test)\n",
    "\n",
    "print('Number of questions:', len(questions_test))\n",
    "print('Number of tables:', len(tables_test))\n",
    "print('Number of label columns:', len(label_cols_test))\n",
    "print('Number of actual columns:', len(actual_col_test))\n",
    "print('Number of qids is ', len(qid_test))\n",
    "print('Number of label rows:', len(label_rows_test))\n"
   ]
  },
  {
   "cell_type": "code",
   "execution_count": 20,
   "metadata": {},
   "outputs": [
    {
     "name": "stdout",
     "output_type": "stream",
     "text": [
      "Number of predictions: 25000\n"
     ]
    }
   ],
   "source": [
    "predictions_train = []\n",
    "for i in range(len(questions_train)):\n",
    "    question = unidecode(questions_train[i]).lower()\n",
    "    table = tables_train[i]\n",
    "    actual_col = actual_col_train[i]\n",
    "    label_col = label_cols_train[i][0]\n",
    "    label_row = label_rows_train[i]\n",
    "    predicted_row = []\n",
    "    score_of_row = []\n",
    "    for j in range(len(table['rows'])):\n",
    "        row = table['rows'][j]\n",
    "        score = 0.0\n",
    "        for k in range(len(row)):\n",
    "            cell = unidecode(row[k]).lower()\n",
    "            that_col = unidecode(actual_col[k]).lower()\n",
    "            if cell in question:\n",
    "                if that_col in question:\n",
    "                    distance = abs(question.index(cell) - question.index(that_col))\n",
    "                    score += (43.0)*(len(cell)*len(cell))/(distance+1)\n",
    "                else:\n",
    "                    score += len(cell)*len(cell)\n",
    "        score_of_row.append(score)\n",
    "    \n",
    "    max_score = max(score_of_row)\n",
    "    for i in range(len(score_of_row)):\n",
    "        if score_of_row[i] == max_score:\n",
    "            predicted_row.append(i)\n",
    "    predictions_train.append(predicted_row)\n",
    "\n",
    "print('Number of predictions:', len(predictions_train))"
   ]
  },
  {
   "cell_type": "code",
   "execution_count": 21,
   "metadata": {},
   "outputs": [
    {
     "name": "stdout",
     "output_type": "stream",
     "text": [
      "Accuracy on train data is: 0.88752\n"
     ]
    }
   ],
   "source": [
    "correct = 0\n",
    "for i in range(len(predictions_train)):\n",
    "    if(predictions_train[i] == label_rows_train[i]):\n",
    "        correct += 1\n",
    "    # else:\n",
    "        # print(questions_train[i])\n",
    "        # print(tables_train[i])\n",
    "accuracy = correct/len(predictions_train)\n",
    "print('Accuracy on train data is:', accuracy)"
   ]
  },
  {
   "cell_type": "code",
   "execution_count": 76,
   "metadata": {},
   "outputs": [
    {
     "name": "stdout",
     "output_type": "stream",
     "text": [
      "Number of predictions: 5000\n"
     ]
    }
   ],
   "source": [
    "predictions_test = []\n",
    "for i in range(len(questions_test)):\n",
    "    question = questions_test[i].lower()\n",
    "    table = tables_test[i]\n",
    "    actual_col = actual_col_test[i]\n",
    "    label_col = label_cols_test[i][0]\n",
    "    label_row = label_rows_test[i]\n",
    "    predicted_row = []\n",
    "    score_of_row = []\n",
    "    for j in range(len(table['rows'])):\n",
    "        row = table['rows'][j]\n",
    "        score = 0.0\n",
    "        for k in range(len(row)):\n",
    "            cell = row[k].lower()\n",
    "            that_col = actual_col[k].lower()\n",
    "            if cell in question:\n",
    "                if that_col in question:\n",
    "                    distance = abs(question.index(cell) - question.index(that_col))\n",
    "                    score += (50.0)*(len(cell)*len(cell))/(distance+1)\n",
    "                else:\n",
    "                    score += len(cell)*len(cell)\n",
    "        score_of_row.append(score)\n",
    "    \n",
    "    max_score = max(score_of_row)\n",
    "    for i in range(len(score_of_row)):\n",
    "        if score_of_row[i] == max_score:\n",
    "            predicted_row.append(i)\n",
    "    predictions_test.append(predicted_row)\n",
    "\n",
    "print('Number of predictions:', len(predictions_test))\n",
    "\n",
    "        "
   ]
  },
  {
   "cell_type": "code",
   "execution_count": 77,
   "metadata": {},
   "outputs": [
    {
     "name": "stdout",
     "output_type": "stream",
     "text": [
      "Accuracy on test data is: 0.886\n"
     ]
    }
   ],
   "source": [
    "correct = 0\n",
    "for i in range(len(predictions_test)):\n",
    "    if(predictions_test[i] == label_rows_test[i]):\n",
    "        correct += 1\n",
    "accuracy = correct/len(predictions_test)\n",
    "print('Accuracy on test data is:', accuracy)"
   ]
  }
 ],
 "metadata": {
  "kernelspec": {
   "display_name": "base",
   "language": "python",
   "name": "python3"
  },
  "language_info": {
   "codemirror_mode": {
    "name": "ipython",
    "version": 3
   },
   "file_extension": ".py",
   "mimetype": "text/x-python",
   "name": "python",
   "nbconvert_exporter": "python",
   "pygments_lexer": "ipython3",
   "version": "3.11.4"
  }
 },
 "nbformat": 4,
 "nbformat_minor": 2
}
